{
 "cells": [
  {
   "cell_type": "markdown",
   "metadata": {},
   "source": [
    "Eric Nguyen"
   ]
  },
  {
   "cell_type": "markdown",
   "metadata": {},
   "source": [
    "# Taylor Polynomials\n",
    "\n",
    "The tangent line approximation $L(x)$ is the best first-degree (linear) approximation to $f(x)$ near $x = a$ because $f(x)$ and $L(x)$ have the same rate of change (derivative) at $a$. For a better approximation than a linear one, let's try a second-degree (quadratic) approximation $P(x)$. In other words, we approximate a curve by a parabola instead of by a straight line. To make sure that the approximation is a good one, we stipulate the following:\n",
    "\n",
    "1. $P(a) = f(a)$ ($P$ and $f$ should have the same value at $a$.)\n",
    "2. $P'(a) = f'(a)$ ($P$ and $f$ should have the same rate of change at $a$.)\n",
    "3. $P''(a) = f''(a)$ (The slopes of $P$ and $f$ should change at the same rate at $a$.)"
   ]
  },
  {
   "cell_type": "markdown",
   "metadata": {},
   "source": [
    "### 1. Find the quadratic approximation $P(x) = A + Bx + Cx^2$ to the function $f(x) = cos(x)$ that satisfies the conditions (1), (2), and (3) with $a = 0$. Graph $P$, $f$, and the linear approximation $L(x) = 1$ on a common screen. Comment on how well the functions $P$ and $L$ approximate $f$."
   ]
  },
  {
   "cell_type": "markdown",
   "metadata": {},
   "source": [
    "$P(x) = 1 - \\frac{x^2}{2}$"
   ]
  },
  {
   "cell_type": "code",
   "execution_count": 64,
   "metadata": {},
   "outputs": [
    {
     "data": {
      "image/png": "[encoded data removed]",
      "text/plain": [
       "plot without title"
      ]
     },
     "metadata": {},
     "output_type": "display_data"
    }
   ],
   "source": [
    "f.1 <- function (x) cos(x)\n",
    "L.1 <- function (x) 1 - x * (0)\n",
    "P.1 <- function (x) 1 - (x^2) / 2\n",
    "plot(f.1, col=2, xlim=c(-2*pi,2*pi), ylim=c(-2,2))\n",
    "plot(L.1, col=3, lwd=2, xlim=c(-2*pi,2*pi), ylim=c(-2,2), add=T)\n",
    "plot(P.1, col=4, lwd=2, xlim=c(-2*pi,2*pi), ylim=c(-2,2), add=T)\n",
    "axis(1, \n",
    "     at=c(\n",
    "         -2 * pi,\n",
    "         -3 * pi / 2,\n",
    "         -pi,\n",
    "         -pi / 2, \n",
    "         pi / 2,\n",
    "         pi,\n",
    "         3 * pi / 2,\n",
    "         2 * pi\n",
    "     ), \n",
    "     labels=c(\n",
    "         expression(-2 * pi),\n",
    "         expression(-3 * pi / 2),\n",
    "         expression(-pi),\n",
    "         expression(-pi / 2), \n",
    "         expression(pi / 2),\n",
    "         expression(pi),\n",
    "         expression(3 * pi / 2),\n",
    "         expression(2 * pi)\n",
    "     ),\n",
    "     pos=0)\n",
    "axis(2, pos=0)\n",
    "legend(\n",
    "    \"topleft\", \n",
    "    legend=c(\n",
    "       expression(f(x)),\n",
    "       expression(L(x)),\n",
    "       expression(P(x))\n",
    "    ),\n",
    "    col=c(2,3,4),\n",
    "    lty=c(1,1,1)\n",
    ")"
   ]
  },
  {
   "cell_type": "markdown",
   "metadata": {},
   "source": [
    "### 2. Determine the values of $x$ for which the quadratic approximation $f(x) = P(x)$ in Problem 1 is accurate to within 0.1. [*Hint*: Graph $y = P(x)$, $y = cos(x) - 0.1$, and $y = cos(x) + 0.1$ on a common screen.]"
   ]
  },
  {
   "cell_type": "code",
   "execution_count": 62,
   "metadata": {},
   "outputs": [
    {
     "data": {
      "image/png": "[encoded data removed]",
      "text/plain": [
       "plot without title"
      ]
     },
     "metadata": {},
     "output_type": "display_data"
    }
   ],
   "source": [
    "y1.2 <- function (x) P.1(x)\n",
    "y2.2 <- function (x) cos(x) - 0.1\n",
    "y3.2 <- function (x) cos(x) + 0.1\n",
    "plot(y1.2, col=2, lwd=2, xlim=c(-2 * pi, 2 * pi), ylim=c(-2,2))\n",
    "plot(y2.2, col=3, lwd=2, add=T, xlim=c(-2 * pi, 2 * pi), ylim=c(-2,2))\n",
    "plot(y3.2, col=4, lwd=2, add=T, xlim=c(-2 * pi, 2 * pi), ylim=c(-2,2))\n",
    "axis(1, \n",
    "     at=c(\n",
    "         -2 * pi,\n",
    "         -3 * pi / 2,\n",
    "         -pi,\n",
    "         -pi / 2, \n",
    "         pi / 2,\n",
    "         pi,\n",
    "         3 * pi / 2,\n",
    "         2 * pi\n",
    "     ), \n",
    "     labels=c(\n",
    "         expression(-2 * pi),\n",
    "         expression(-3 * pi / 2),\n",
    "         expression(-pi),\n",
    "         expression(-pi / 2), \n",
    "         expression(pi / 2),\n",
    "         expression(pi),\n",
    "         expression(3 * pi / 2),\n",
    "         expression(2 * pi)\n",
    "     ),\n",
    "     pos=0)\n",
    "axis(2, pos=0)\n",
    "legend(\n",
    "    \"topleft\",\n",
    "    legend=c(\n",
    "        expression(P(x)),\n",
    "        expression(cos(x) - 0.1),\n",
    "        expression(cos(x) + 0.1)\n",
    "    ),\n",
    "    col=c(2,3,4),\n",
    "    lty=c(1,1,1)\n",
    ")"
   ]
  },
  {
   "cell_type": "code",
   "execution_count": 3,
   "metadata": {},
   "outputs": [
    {
     "name": "stdout",
     "output_type": "stream",
     "text": [
      "[1] -1.2610  0.2049\n",
      "[1] 1.2610 0.2049\n"
     ]
    }
   ],
   "source": [
    "for (x in seq(-3,3,0.001)) {\n",
    "    if (round(y1.2(x), digits=4) == round(y2.2(x), digits=4)) {\n",
    "        print(c(round(x, digits=4), round(y1.2(x), digits=4)))\n",
    "    }\n",
    "}"
   ]
  },
  {
   "cell_type": "markdown",
   "metadata": {},
   "source": [
    "The values of $x$ for which the approximation $f(x) = P(x)$ in Problem 1 is accurate within $0.1$ are $-1.2610$ and $1.2610$."
   ]
  },
  {
   "cell_type": "markdown",
   "metadata": {},
   "source": [
    "### 3. To approximate a function $f$ by a quadratic function $P$ near a number $a$, it is best to write $P$ in the form\n",
    "\n",
    "> $P(x) = A + B(x - a) + C(x - a)^2$\n",
    "\n",
    "### Show that the quadratic function that satisfies conditions (1), (2), and (3) is\n",
    "\n",
    "> $P(x) = f(a) + f'(a)(x - a) + \\frac{1}{2} f''(a)(x - a)^2$"
   ]
  },
  {
   "cell_type": "markdown",
   "metadata": {},
   "source": [
    "$f(x) = cos(x)$  \n",
    "$f'(x) = -sin(x)$  \n",
    "$f''(x) = -cos(x)$  \n",
    "$P(x) = f(0) + f'(0)(x - 0) + \\frac{1}{2} f''(0)(x - 0)^2$  \n",
    "$P(x) = (1) + (0)(x - 0) + \\frac{1}{2} (-1)(x - 0)^2$  \n",
    "$P(x) = 1 + \\frac{-(x^2)}{2}$  \n",
    "$P'(x) = -x$  \n",
    "$P''(x) = -1$  \n",
    "$P(0) = 1 + \\frac{-((0)^2)}{2}$  \n",
    "$\\color{red}{P(0) = 1}$  \n",
    "$f(0) = cos(0)$  \n",
    "$\\color{red}{f(0) = 1}$  \n",
    "$P'(0) = -(0)$  \n",
    "$\\color{green}{P'(0) = 0}$  \n",
    "$f'(0) = -sin(0)$  \n",
    "$\\color{green}{f'(0) = 0}$  \n",
    "$\\color{blue}{P''(0) = -1}$  \n",
    "$\\color{blue}{f''(0) = -1}$"
   ]
  },
  {
   "cell_type": "markdown",
   "metadata": {},
   "source": [
    "### 4. Find the quadratic approximation to $f(x) = \\sqrt{x + 3}$ near $a = 1$. Graph $f$, the quadratic approximation, and the linear approximation from Example 2 in Section 3.9 on a common screen. What do you conclude?"
   ]
  },
  {
   "cell_type": "markdown",
   "metadata": {},
   "source": [
    "> $\\color{green}{f(x) = \\sqrt{x + 3}}$  \n",
    "> $f'(x) = \\frac{1}{2 \\sqrt{x + 3}}$  \n",
    "> $f''(x) = - \\frac{1}{4(x + 3)^{\\frac{3}{2}}}$  \n",
    "> $L(x) = f(a) + f'(a)(x - a)$  \n",
    "> $\\color{red}{L(x) = 2 + \\frac{x - 1}{4}}$  \n",
    "> $P(x) = f(a) + f'(a)(x - a) + \\frac{1}{2} f''(a)(x - a)^2$  \n",
    "> $P(x) = (\\sqrt{1 + 3}) + (\\frac{1}{2 \\sqrt{1 + 3}})(x - 1) + \\frac{1}{2} (\\frac{1}{4(1 + 3)^{\\frac{3}{2}}})(x - 1)^2$  \n",
    "> $\\color{blue}{P(x) = 2 + \\frac{x - 1}{4} + \\frac{x^2 - 2x + 1}{64}}$  "
   ]
  },
  {
   "cell_type": "code",
   "execution_count": 60,
   "metadata": {
    "scrolled": false
   },
   "outputs": [
    {
     "data": {
      "image/png": "[encoded data removed]",
      "text/plain": [
       "plot without title"
      ]
     },
     "metadata": {},
     "output_type": "display_data"
    }
   ],
   "source": [
    "f.2 <- function (x) sqrt(x + 3)\n",
    "L.2 <- function (x) 2 + (x - 1) / 4\n",
    "P.2 <- function (x) 2 + (x - 1) / 4 + (x^2 - 2 * x + 1) / 64\n",
    "plot(f.2, xlim=c(-3,5), ylim=c(-1, 4), col=2, lwd=2)\n",
    "plot(L.2, xlim=c(-5,5), ylim=c(-1,4), col=3, lwd=2, add=T)\n",
    "plot(P.2, xlim=c(-5,5), ylim=c(-1,4), col=4, lwd=2, add=T)\n",
    "axis(1, pos=0)\n",
    "axis(2, pos=0)\n",
    "legend(\n",
    "    \"topleft\", \n",
    "    legend=c(\n",
    "       expression(f(x)),\n",
    "       expression(L(x)),\n",
    "       expression(P(x))\n",
    "    ),\n",
    "    col=c(2,3,4),\n",
    "    lty=c(1,1,1)\n",
    ")"
   ]
  },
  {
   "cell_type": "markdown",
   "metadata": {},
   "source": [
    "I conclude that the quadratic approximation is less accurate than the linear approximation because the linear approximation is closer to the function."
   ]
  },
  {
   "cell_type": "markdown",
   "metadata": {},
   "source": [
    "### 5. Instead of being satisfied with a linear or quadratic approximation to $f(x)$ near $x = a$, let's try to find better approximations with higher-degree polynomials. We look for an $n$th-degree polynomial\n",
    "\n",
    "> $T_n(x) = C_0 + C_1(x - a) + C_2(x - a)^2 + C_3(x - a)^3 + ... + C_n(x - a)^n$\n",
    "\n",
    "### such that $T_n$ and its first $n$ derivatives have the same values at $x = a$ as $f$ and its first $n$ derivatives. By differentiating repeatedly and setting $x = a$, show that these conditions are satisfied if $C_0 = f(a), C_1 = f'(a), C_2 = \\frac{1}{2} f''(a)$, and in general\n",
    "\n",
    "> $C_k = \\frac{f^{(k)}(a)}{k!}$\n",
    "\n",
    "### where $k! = 1 \\cdot 2 \\cdot 3 \\cdot 4 \\cdot ... \\cdot k$. The resulting polynomial\n",
    "\n",
    "> $T_n(x) = f(a) + f'(a)(x - a) + \\frac{f''(a)}{2!} (x - a)^2 + ... + \\frac{f^{(n)}(a)}{n!} (x - a)^n$\n",
    "\n",
    "### is called the $n \\text{th-degree Taylor polynomial of } f \\text{centered at } a$."
   ]
  },
  {
   "cell_type": "markdown",
   "metadata": {},
   "source": [
    "### 6. Find the $8$th-degree Taylor polynomial centered at $a = 0$ for the function $f(x) = cos(x)$. Graph $f$ together with the Taylor polynomials $T_2$, $T_4$, $T_6$, $T_8$ in the viewing rectangle $[-5, 5]$ by $[-1.4, 1.4]$ and comment on how well they approximate $f$."
   ]
  },
  {
   "cell_type": "markdown",
   "metadata": {},
   "source": [
    "> $f(x) = cos(x)$  \n",
    "> $f'(x) = -sin(x)$  \n",
    "> $f''(x) = -cos(x)$  \n",
    "> $f^{(3)}(x) = sin(x)$  \n",
    "> $f^{(4)}(x) = cos(x)$  \n",
    "> $T_n(x) = \\sum_\\limits{i = 0}^n \\frac{f^{(i)}(a)}{i!} (x - a)^i$  \n",
    "> $T_2(0) = cos(0) - \\frac{cos(0)}{2!}x^2$  \n",
    "> $\\color{magenta}{T_2(0) = 1 - \\frac{x^2}{2}}$  \n",
    "> $T_4(0) = T_2(0) + \\frac{cos(0)}{4!}x^4$  \n",
    "> $\\color{red}{T_4(0) = 1 - \\frac{x^2}{2} + \\frac{x^4}{24}}$  \n",
    "> $T_6(0) = T_4(0) - \\frac{cos(0)}{6!}x^6$  \n",
    "> $\\color{green}{T_6(0) = 1 - \\frac{x^2}{2} + \\frac{x^4}{24} - \\frac{x^6}{720}}$  \n",
    "> $T_8(0) = T_6(0) + \\frac{cos(0)}{8!}x^8$  \n",
    "> $\\color{blue}{T_8(0) = 1 - \\frac{x^2}{2} + \\frac{x^4}{24} - \\frac{x^6}{720} + \\frac{x^8}{40320}}$"
   ]
  },
  {
   "cell_type": "code",
   "execution_count": 57,
   "metadata": {},
   "outputs": [
    {
     "data": {
      "image/png": "[encoded data removed]",
      "text/plain": [
       "plot without title"
      ]
     },
     "metadata": {},
     "output_type": "display_data"
    }
   ],
   "source": [
    "T.2 <- function (x) 1 - x^2 / 2\n",
    "T.4 <- function (x) T.2(x) + x^4 / 24\n",
    "T.6 <- function (x) T.4(x) - x^6 / 720\n",
    "T.8 <- function (x) T.6(x) + x^8 / 40320\n",
    "plot(T.2, xlim=c(-5,5), ylim=c(-1.4,1.4), lwd=2, col=6)\n",
    "plot(T.4, xlim=c(-5,5), ylim=c(-1.4,1.4), add=T, col=2, lwd=2)\n",
    "plot(T.6, xlim=c(-5,5), ylim=c(-1.4,1.4), add=T, col=3, lwd=2)\n",
    "plot(T.8, xlim=c(-5,5), ylim=c(-1.4,1.4), add=T, col=4, lwd=2)\n",
    "axis(1, at=c(-5:5), pos=0)\n",
    "axis(2, pos=0)\n",
    "legend(\"topleft\", \n",
    "       legend=c(\n",
    "           expression(\"T\"[2](x)),\n",
    "           expression(\"T\"[4](x)),\n",
    "           expression(\"T\"[6](x)),\n",
    "           expression(\"T\"[8](x))\n",
    "       ), \n",
    "       col=c(6,2,3,4), \n",
    "       lty=c(1,1,1,1))"
   ]
  }
 ],
 "metadata": {
  "kernelspec": {
   "display_name": "R",
   "language": "R",
   "name": "ir"
  },
  "language_info": {
   "codemirror_mode": "r",
   "file_extension": ".r",
   "mimetype": "text/x-r-source",
   "name": "R",
   "pygments_lexer": "r",
   "version": "3.5.1"
  }
 },
 "nbformat": 4,
 "nbformat_minor": 2
}
